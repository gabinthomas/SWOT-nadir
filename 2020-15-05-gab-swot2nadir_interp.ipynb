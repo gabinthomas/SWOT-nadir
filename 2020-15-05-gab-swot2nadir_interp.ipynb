{
 "cells": [
  {
   "cell_type": "markdown",
   "metadata": {},
   "source": [
    "# 2020-15-05-gab-swot2nadir_interp"
   ]
  },
  {
   "cell_type": "code",
   "execution_count": 5,
   "metadata": {},
   "outputs": [],
   "source": [
    "import numpy as np\n",
    "import scipy\n",
    "from scipy import interpolate\n",
    "from scipy import optimize, io, linalg\n",
    "import os\n",
    "import xarray as xr\n",
    "from matplotlib import pyplot as plt\n",
    "from scipy.interpolate import griddata\n"
   ]
  },
  {
   "cell_type": "markdown",
   "metadata": {},
   "source": [
    "## imput data\n",
    "path_nadir and path_SWOTpass are imported on the OSMOSIS1 domain:"
   ]
  },
  {
   "cell_type": "code",
   "execution_count": 2,
   "metadata": {},
   "outputs": [],
   "source": [
    "#%%\n",
    "#### SWOT DATA\n",
    "# Make sure to put this script in the directory below (/data/OSMOSIS/) before you run it\n",
    "domain_name = 'OSMOSIS1'\n",
    "\n",
    "# Name of the SWOT pass in data/*domain*/ directory\n",
    "if domain_name == 'OSMOSIS1' :\n",
    "    path_SWOTpass = 'BOOST-SWOT_SWOT_OSMOSIS_c02_p436.nc'\n",
    "    path_nadir = 'BOOST-SWOT_J1_nadir_c05_p01.nc'\n",
    "    # Plotting params\n",
    "    max_range = 0.2 # Limit for colorbar (SSH in meters) for SSH\n",
    "    max_range_diff = 0.1 # Limit for colorbar (SSH in meters) for SSH differences\n",
    "    \n"
   ]
  },
  {
   "cell_type": "markdown",
   "metadata": {},
   "source": [
    "Then a SWOT path is donwload"
   ]
  },
  {
   "cell_type": "code",
   "execution_count": 4,
   "metadata": {},
   "outputs": [
    {
     "ename": "AttributeError",
     "evalue": "type object 'netCDF4._netCDF4._MemBuf' has no attribute '__reduce_cython__'",
     "output_type": "error",
     "traceback": [
      "\u001b[0;31m---------------------------------------------------------------------------\u001b[0m",
      "\u001b[0;31mAttributeError\u001b[0m                            Traceback (most recent call last)",
      "\u001b[0;32m<ipython-input-4-92f67f6a465f>\u001b[0m in \u001b[0;36m<module>\u001b[0;34m\u001b[0m\n\u001b[1;32m      5\u001b[0m \u001b[0mall_but_karin\u001b[0m \u001b[0;34m=\u001b[0m \u001b[0;32mFalse\u001b[0m\u001b[0;34m\u001b[0m\u001b[0;34m\u001b[0m\u001b[0m\n\u001b[1;32m      6\u001b[0m \u001b[0;34m\u001b[0m\u001b[0m\n\u001b[0;32m----> 7\u001b[0;31m \u001b[0;32mwith\u001b[0m \u001b[0mxr\u001b[0m\u001b[0;34m.\u001b[0m\u001b[0mopen_dataset\u001b[0m\u001b[0;34m(\u001b[0m\u001b[0mpath_SWOTpass\u001b[0m\u001b[0;34m,\u001b[0m \u001b[0mmask_and_scale\u001b[0m\u001b[0;34m=\u001b[0m\u001b[0;32mTrue\u001b[0m\u001b[0;34m)\u001b[0m \u001b[0;32mas\u001b[0m \u001b[0;34m(\u001b[0m\u001b[0mds_SWOTpass\u001b[0m\u001b[0;34m)\u001b[0m\u001b[0;34m:\u001b[0m\u001b[0;34m\u001b[0m\u001b[0;34m\u001b[0m\u001b[0m\n\u001b[0m\u001b[1;32m      8\u001b[0m     \u001b[0mntime\u001b[0m \u001b[0;34m=\u001b[0m \u001b[0mds_SWOTpass\u001b[0m\u001b[0;34m.\u001b[0m\u001b[0mtime\u001b[0m\u001b[0;34m.\u001b[0m\u001b[0msize\u001b[0m\u001b[0;34m\u001b[0m\u001b[0;34m\u001b[0m\u001b[0m\n\u001b[1;32m      9\u001b[0m \u001b[0;31m#ds_SWOTpass.info()\u001b[0m\u001b[0;34m\u001b[0m\u001b[0;34m\u001b[0m\u001b[0;34m\u001b[0m\u001b[0m\n",
      "\u001b[0;32m~/anaconda3/lib/python3.7/site-packages/xarray/backends/api.py\u001b[0m in \u001b[0;36mopen_dataset\u001b[0;34m(filename_or_obj, group, decode_cf, mask_and_scale, decode_times, autoclose, concat_characters, decode_coords, engine, chunks, lock, cache, drop_variables, backend_kwargs, use_cftime)\u001b[0m\n\u001b[1;32m    497\u001b[0m \u001b[0;34m\u001b[0m\u001b[0m\n\u001b[1;32m    498\u001b[0m         \u001b[0;32mif\u001b[0m \u001b[0mengine\u001b[0m \u001b[0;32mis\u001b[0m \u001b[0;32mNone\u001b[0m\u001b[0;34m:\u001b[0m\u001b[0;34m\u001b[0m\u001b[0;34m\u001b[0m\u001b[0m\n\u001b[0;32m--> 499\u001b[0;31m             \u001b[0mengine\u001b[0m \u001b[0;34m=\u001b[0m \u001b[0m_get_default_engine\u001b[0m\u001b[0;34m(\u001b[0m\u001b[0mfilename_or_obj\u001b[0m\u001b[0;34m,\u001b[0m \u001b[0mallow_remote\u001b[0m\u001b[0;34m=\u001b[0m\u001b[0;32mTrue\u001b[0m\u001b[0;34m)\u001b[0m\u001b[0;34m\u001b[0m\u001b[0;34m\u001b[0m\u001b[0m\n\u001b[0m\u001b[1;32m    500\u001b[0m         \u001b[0;32mif\u001b[0m \u001b[0mengine\u001b[0m \u001b[0;34m==\u001b[0m \u001b[0;34m\"netcdf4\"\u001b[0m\u001b[0;34m:\u001b[0m\u001b[0;34m\u001b[0m\u001b[0;34m\u001b[0m\u001b[0m\n\u001b[1;32m    501\u001b[0m             store = backends.NetCDF4DataStore.open(\n",
      "\u001b[0;32m~/anaconda3/lib/python3.7/site-packages/xarray/backends/api.py\u001b[0m in \u001b[0;36m_get_default_engine\u001b[0;34m(path, allow_remote)\u001b[0m\n\u001b[1;32m    151\u001b[0m         \u001b[0mengine\u001b[0m \u001b[0;34m=\u001b[0m \u001b[0m_get_default_engine_gz\u001b[0m\u001b[0;34m(\u001b[0m\u001b[0;34m)\u001b[0m\u001b[0;34m\u001b[0m\u001b[0;34m\u001b[0m\u001b[0m\n\u001b[1;32m    152\u001b[0m     \u001b[0;32melse\u001b[0m\u001b[0;34m:\u001b[0m\u001b[0;34m\u001b[0m\u001b[0;34m\u001b[0m\u001b[0m\n\u001b[0;32m--> 153\u001b[0;31m         \u001b[0mengine\u001b[0m \u001b[0;34m=\u001b[0m \u001b[0m_get_default_engine_netcdf\u001b[0m\u001b[0;34m(\u001b[0m\u001b[0;34m)\u001b[0m\u001b[0;34m\u001b[0m\u001b[0;34m\u001b[0m\u001b[0m\n\u001b[0m\u001b[1;32m    154\u001b[0m     \u001b[0;32mreturn\u001b[0m \u001b[0mengine\u001b[0m\u001b[0;34m\u001b[0m\u001b[0;34m\u001b[0m\u001b[0m\n\u001b[1;32m    155\u001b[0m \u001b[0;34m\u001b[0m\u001b[0m\n",
      "\u001b[0;32m~/anaconda3/lib/python3.7/site-packages/xarray/backends/api.py\u001b[0m in \u001b[0;36m_get_default_engine_netcdf\u001b[0;34m()\u001b[0m\n\u001b[1;32m     94\u001b[0m \u001b[0;32mdef\u001b[0m \u001b[0m_get_default_engine_netcdf\u001b[0m\u001b[0;34m(\u001b[0m\u001b[0;34m)\u001b[0m\u001b[0;34m:\u001b[0m\u001b[0;34m\u001b[0m\u001b[0;34m\u001b[0m\u001b[0m\n\u001b[1;32m     95\u001b[0m     \u001b[0;32mtry\u001b[0m\u001b[0;34m:\u001b[0m\u001b[0;34m\u001b[0m\u001b[0;34m\u001b[0m\u001b[0m\n\u001b[0;32m---> 96\u001b[0;31m         \u001b[0;32mimport\u001b[0m \u001b[0mnetCDF4\u001b[0m  \u001b[0;31m# noqa: F401\u001b[0m\u001b[0;34m\u001b[0m\u001b[0;34m\u001b[0m\u001b[0m\n\u001b[0m\u001b[1;32m     97\u001b[0m \u001b[0;34m\u001b[0m\u001b[0m\n\u001b[1;32m     98\u001b[0m         \u001b[0mengine\u001b[0m \u001b[0;34m=\u001b[0m \u001b[0;34m\"netcdf4\"\u001b[0m\u001b[0;34m\u001b[0m\u001b[0;34m\u001b[0m\u001b[0m\n",
      "\u001b[0;32m~/anaconda3/lib/python3.7/site-packages/netCDF4/__init__.py\u001b[0m in \u001b[0;36m<module>\u001b[0;34m\u001b[0m\n\u001b[1;32m      1\u001b[0m \u001b[0;31m# init for netCDF4. package\u001b[0m\u001b[0;34m\u001b[0m\u001b[0;34m\u001b[0m\u001b[0;34m\u001b[0m\u001b[0m\n\u001b[1;32m      2\u001b[0m \u001b[0;31m# Docstring comes from extension module _netCDF4.\u001b[0m\u001b[0;34m\u001b[0m\u001b[0;34m\u001b[0m\u001b[0;34m\u001b[0m\u001b[0m\n\u001b[0;32m----> 3\u001b[0;31m \u001b[0;32mfrom\u001b[0m \u001b[0;34m.\u001b[0m\u001b[0m_netCDF4\u001b[0m \u001b[0;32mimport\u001b[0m \u001b[0;34m*\u001b[0m\u001b[0;34m\u001b[0m\u001b[0;34m\u001b[0m\u001b[0m\n\u001b[0m\u001b[1;32m      4\u001b[0m \u001b[0;31m# Need explicit imports for names beginning with underscores\u001b[0m\u001b[0;34m\u001b[0m\u001b[0;34m\u001b[0m\u001b[0;34m\u001b[0m\u001b[0m\n\u001b[1;32m      5\u001b[0m \u001b[0;32mfrom\u001b[0m \u001b[0;34m.\u001b[0m\u001b[0m_netCDF4\u001b[0m \u001b[0;32mimport\u001b[0m \u001b[0m__doc__\u001b[0m\u001b[0;34m,\u001b[0m \u001b[0m__pdoc__\u001b[0m\u001b[0;34m\u001b[0m\u001b[0;34m\u001b[0m\u001b[0m\n",
      "\u001b[0;32minclude/membuf.pyx\u001b[0m in \u001b[0;36minit netCDF4._netCDF4\u001b[0;34m()\u001b[0m\n",
      "\u001b[0;31mAttributeError\u001b[0m: type object 'netCDF4._netCDF4._MemBuf' has no attribute '__reduce_cython__'"
     ]
    }
   ],
   "source": [
    "#### Download a SWOT path\n",
    "\n",
    "roll_error_only = True\n",
    "\n",
    "all_but_karin = False\n",
    "\n",
    "with xr.open_dataset(path_SWOTpass, mask_and_scale=True) as (ds_SWOTpass):\n",
    "    ntime = ds_SWOTpass.time.size\n",
    "#ds_SWOTpass.info() \n",
    "# Dimension of the dataset\n",
    "nc = ds_SWOTpass.nC.size\n",
    "lon_swotpass = np.zeros([ntime, nc])\n",
    "lon_swotpass [:,:] = ds_SWOTpass.lon\n",
    "lon_swotpass = np.ma.masked_invalid(lon_swotpass)\n",
    "lat_swotpass = np.zeros([ntime,nc])\n",
    "lat_swotpass [:,:] = ds_SWOTpass.lat\n",
    "lat_swotpass = np.ma.masked_invalid(lat_swotpass)\n",
    "ssh_swotpass = np.zeros([ntime,nc])\n",
    "if roll_error_only:\n",
    "    ssh_swotpass[:, :] = ds_SWOTpass.ssh_model + ds_SWOTpass.roll_err\n",
    "elif all_but_karin:\n",
    "   ssh_swotpass[:, :] = ds_SWOTpass.ssh_model + ds_SWOTpass.roll_err + ds_SWOTpass.phase_err + ds_SWOTpass.timing_err + ds_SWOTpass.bd_err\n",
    "else: \n",
    "    ssh_swotpass[:, :] = ds_SWOTpass.ssh_obs\n",
    "ssh_swotpass = np.ma.masked_invalid(ssh_swotpass)\n",
    "ssh_swotpass_truth = np.zeros([ntime, nc]) \n",
    "ssh_swotpass_truth[:, :] = ds_SWOTpass.ssh_model # ssh model\n",
    "ssh_swotpass_truth = np.ma.masked_invalid(ssh_swotpass_truth)\n"
   ]
  },
  {
   "cell_type": "code",
   "execution_count": null,
   "metadata": {},
   "outputs": [],
   "source": [
    "#### Download NADIR DATA\n",
    "with xr.open_dataset(path_nadir, mask_and_scale=True) as ds_nadirpass:\n",
    "    ds_nadirpass.info()\n",
    "ndtime = ds_nadirpass.time.size\n",
    "lon_nadirpass = np.zeros([ndtime])\n",
    "lon_nadirpass[:] = ds_nadirpass.lon\n",
    "lat_nadirpass = np.zeros([ndtime])\n",
    "lat_nadirpass[:] = ds_nadirpass.lat\n",
    "x_al = np.zeros([ndtime])\n",
    "x_al[:] = ds_nadirpass.x_al\n",
    "ssh_nadir = np.zeros([ndtime])  \n",
    "            \n",
    "ssh_nadir[:] = ds_nadirpass.ssh_obs\n",
    "ssh_nadir_truth = np.zeros([ndtime])  \n",
    "ssh_nadir_truth[:] = ds_nadirpass.ssh_model\n"
   ]
  },
  {
   "cell_type": "code",
   "execution_count": null,
   "metadata": {},
   "outputs": [],
   "source": [
    "### SSH vs Nadir along track (x_al) for Nadir data\n",
    "plt.figure()\n",
    "#plt.scatter(lon_swotpass, lat_swotpass, c=ssh_swotpass, s=15)\n",
    "plt.plot(x_al,ssh_nadir)\n",
    "plt.ylabel('SSH (m)')\n",
    "plt.xlabel('x_al (km)')\n",
    "plt.title('Nadir data along track', fontsize=15)\n",
    "#cb = plt.colorbar()\n",
    "#cb.ax.tick_params(labelsize=15)"
   ]
  },
  {
   "cell_type": "code",
   "execution_count": null,
   "metadata": {},
   "outputs": [],
   "source": [
    "plt.figure(figsize=(8,8))\n",
    "plt.scatter(lon_swotpass, lat_swotpass,c=ssh_swotpass,s=15)\n",
    "plt.scatter(lon_nadirpass,lat_nadirpass,c=ssh_nadir,s=15) \n",
    "plt.ylabel('Latitude (°)',fontsize=15)\n",
    "plt.xlabel('Lontitude (°)',fontsize=15)\n",
    "plt.title('SWOT and Nadir',fontsize=15)\n",
    "plt.colorbar()"
   ]
  },
  {
   "cell_type": "code",
   "execution_count": null,
   "metadata": {},
   "outputs": [],
   "source": [
    "### select SSH data along the track (x_al)\n",
    "xn,yn=lat_nadirpass,long_nadirpass\n",
    "xs,ys=lat_swotpass,lon_swotpass\n",
    "ssh=ssh_swotpass\n",
    "\n",
    "\n",
    "print(xs.shape)\n",
    "print(ys.shape)"
   ]
  },
  {
   "cell_type": "markdown",
   "metadata": {},
   "source": [
    "# Interpolation"
   ]
  },
  {
   "cell_type": "markdown",
   "metadata": {},
   "source": [
    "create the interplolation fonction"
   ]
  },
  {
   "cell_type": "code",
   "execution_count": null,
   "metadata": {},
   "outputs": [],
   "source": [
    "swot2nadir_interp = interpolate.RectBivariateSpline(xs, ys, ssh)"
   ]
  },
  {
   "cell_type": "markdown",
   "metadata": {},
   "source": [
    "Now, the value of the ssh (measured by SWOT) is known everywhere: it's a function defined over the entire surface. It is possible to plot it according to any point of latitude and longitude:"
   ]
  },
  {
   "cell_type": "code",
   "execution_count": null,
   "metadata": {},
   "outputs": [],
   "source": [
    "#random point creation on the surface\n",
    "tx=x.shape\n",
    "ty=y.shape\n",
    "NX,NY=100,100\n",
    "dx=(x[tx-1]-x[0])/NX\n",
    "X=np.arange(0,NX+1)+x[0]\n",
    "Y=np.arange(0,NY+1)+y[0]\n",
    "YM, XM = np.meshgrid(Y,X)\n",
    "\n",
    "swotpath=swot2nadir_nadir(X,Y)\n",
    "plt.scatter(XM,YM,s=15,c=swotpath)"
   ]
  },
  {
   "cell_type": "code",
   "execution_count": null,
   "metadata": {},
   "outputs": [],
   "source": [
    "pn2d = swot2nadir_interp(xn,yn)"
   ]
  },
  {
   "cell_type": "code",
   "execution_count": null,
   "metadata": {},
   "outputs": [],
   "source": [
    "pn2d.shape"
   ]
  },
  {
   "cell_type": "code",
   "execution_count": null,
   "metadata": {},
   "outputs": [],
   "source": [
    "pn = np.diag(pn2d)"
   ]
  },
  {
   "cell_type": "code",
   "execution_count": null,
   "metadata": {},
   "outputs": [],
   "source": [
    "plt.figure(figsize=(10,10))\n",
    "plt.scatter(xm, ym, s = 15,c=ssh)\n",
    "plt.scatter(xn, yn, s = 4, c=pn)"
   ]
  },
  {
   "cell_type": "code",
   "execution_count": null,
   "metadata": {},
   "outputs": [],
   "source": [
    "#%%\n",
    "plt.figure(figsize=(10,10))\n",
    "plt.plot(x_al,pn)\n",
    "plt.ylabel('SSH (m)')\n",
    "plt.xlabel('x_al (km)')\n",
    "plt.title('SWOT data along track', fontsize=15)"
   ]
  },
  {
   "cell_type": "code",
   "execution_count": null,
   "metadata": {},
   "outputs": [],
   "source": [
    "plt.figure(figsize=(16,16))\n",
    "plt.plot(x_al,pn)\n",
    "plt.plot(x_al,ssh_nadir)\n",
    "plt.ylabel('SSH (m)')\n",
    "plt.xlabel('x_al (km)')\n",
    "plt.title('SWOT and Nadir data along track', fontsize=15)"
   ]
  }
 ],
 "metadata": {
  "kernelspec": {
   "display_name": "Python 3",
   "language": "python",
   "name": "python3"
  },
  "language_info": {
   "codemirror_mode": {
    "name": "ipython",
    "version": 3
   },
   "file_extension": ".py",
   "mimetype": "text/x-python",
   "name": "python",
   "nbconvert_exporter": "python",
   "pygments_lexer": "ipython3",
   "version": "3.7.1"
  }
 },
 "nbformat": 4,
 "nbformat_minor": 2
}
