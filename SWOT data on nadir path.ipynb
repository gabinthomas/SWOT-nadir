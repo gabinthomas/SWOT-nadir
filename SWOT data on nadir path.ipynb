{
 "cells": [
  {
   "cell_type": "code",
   "execution_count": 3,
   "metadata": {},
   "outputs": [],
   "source": [
    "# -*- coding: utf-8 -*-\n",
    "\"\"\"\n",
    "Created on Sun Apr 26 17:17:34 2020\n",
    "\n",
    "\"\"\"\n",
    "import numpy as np\n",
    "import scipy\n",
    "from scipy import interpolate\n",
    "from scipy import optimize, io, linalg\n",
    "import os\n",
    "import xarray as xr\n",
    "from matplotlib import pyplot as plt\n",
    "from scipy.interpolate import interp1d\n",
    "from scipy.interpolate import interp2d\n",
    "from scipy.interpolate import griddata"
   ]
  },
  {
   "cell_type": "markdown",
   "metadata": {},
   "source": [
    "1. Import data\n",
    "   path_nadir and path_SWOTpass on OSMOSIS1 domain are imported:"
   ]
  },
  {
   "cell_type": "code",
   "execution_count": 4,
   "metadata": {},
   "outputs": [],
   "source": [
    "#### SWOT DATA\n",
    "# Make sure to put this script in the directory below (/data/OSMOSIS/) before you run it\n",
    "\n",
    "domain_name = 'OSMOSIS1'\n",
    "addpath = '/home/hafolahbi/Desktop/INTERN/Work/SWOT_prac/data'\n",
    "os.chdir(r'/home/hafolahbi/Desktop/INTERN/Work/SWOT_prac/data/OSMOSIS')\n",
    "\n",
    "# Name of the SWOT pass in data/*domain*/ directory\n",
    "if domain_name == 'OSMOSIS1' :\n",
    "    path_SWOTpass = 'BOOST-SWOT_SWOT_OSMOSIS_c02_p436.nc'\n",
    "    path_nadir = 'BOOST-SWOT_J1_nadir_c05_p01.nc'\n",
    "    # Plotting params\n",
    "    max_range = 0.2 # Limit for colorbar (SSH in meters) for SSH\n",
    "    max_range_diff = 0.1 # Limit for colorbar (SSH in meters) for SSH differences"
   ]
  },
  {
   "cell_type": "markdown",
   "metadata": {},
   "source": [
    "2. Then SWOT and Nadir paths are downloaded"
   ]
  },
  {
   "cell_type": "code",
   "execution_count": 10,
   "metadata": {},
   "outputs": [
    {
     "name": "stdout",
     "output_type": "stream",
     "text": [
      "xarray.Dataset {\n",
      "dimensions:\n",
      "\tnC = 52 ;\n",
      "\ttime = 597 ;\n",
      "\n",
      "variables:\n",
      "\tfloat64 lon(time, nC) ;\n",
      "\t\tlon:units = deg ;\n",
      "\t\tlon:long_name = Longitude ;\n",
      "\t\tlon:valid_min = 0 ;\n",
      "\t\tlon:valid_max = 359999999 ;\n",
      "\tfloat64 lat(time, nC) ;\n",
      "\t\tlat:units = deg ;\n",
      "\t\tlat:long_name = Latitude ;\n",
      "\t\tlat:valid_min = -80000000 ;\n",
      "\t\tlat:valid_max = 80000000 ;\n",
      "\tfloat32 x_al(time, nC) ;\n",
      "\t\tx_al:units = km ;\n",
      "\t\tx_al:long_name = Along track distance from the beginning of the pass ;\n",
      "\tfloat32 x_ac(nC, time) ;\n",
      "\t\tx_ac:units = km ;\n",
      "\t\tx_ac:long_name = Across track distance from nadir ;\n",
      "\tfloat64 lon_nadir(time, nC) ;\n",
      "\t\tlon_nadir:units = deg ;\n",
      "\t\tlon_nadir:valid_min = 0 ;\n",
      "\t\tlon_nadir:valid_max = 359999999 ;\n",
      "\tfloat64 lat_nadir(time, nC) ;\n",
      "\t\tlat_nadir:units = deg ;\n",
      "\t\tlat_nadir:valid_min = -80000000 ;\n",
      "\t\tlat_nadir:valid_max = 80000000 ;\n",
      "\tfloat32 model_index(time, nC) ;\n",
      "\t\tmodel_index:valid_min = 0 ;\n",
      "\t\tmodel_index:valid_max = 65535 ;\n",
      "\t\tmodel_index:units =  ;\n",
      "\t\tmodel_index:long_name = Equivalent model output number in list of file ;\n",
      "\tfloat64 timing_err(time, nC) ;\n",
      "\t\ttiming_err:valid_min = -1500000 ;\n",
      "\t\ttiming_err:valid_max = 1500000 ;\n",
      "\t\ttiming_err:units = m ;\n",
      "\t\ttiming_err:long_name = Timing error ;\n",
      "\tfloat64 ssh_obs(time, nC) ;\n",
      "\t\tssh_obs:valid_min = -1500000 ;\n",
      "\t\tssh_obs:valid_max = 1500000 ;\n",
      "\t\tssh_obs:units = m ;\n",
      "\t\tssh_obs:long_name = Observed SSH (ssh_model + errors) ;\n",
      "\tfloat64 roll_err(time, nC) ;\n",
      "\t\troll_err:valid_min = -1500000 ;\n",
      "\t\troll_err:valid_max = 1500000 ;\n",
      "\t\troll_err:units = m ;\n",
      "\t\troll_err:long_name = Residual roll error ;\n",
      "\tfloat64 phase_err(time, nC) ;\n",
      "\t\tphase_err:valid_min = -1500000 ;\n",
      "\t\tphase_err:valid_max = 1500000 ;\n",
      "\t\tphase_err:units = m ;\n",
      "\t\tphase_err:long_name = Phase error ;\n",
      "\tfloat64 ssh_model(time, nC) ;\n",
      "\t\tssh_model:valid_min = -1500000 ;\n",
      "\t\tssh_model:valid_max = 1500000 ;\n",
      "\t\tssh_model:units = m ;\n",
      "\t\tssh_model:long_name = SSH interpolated from model ;\n",
      "\tfloat64 bd_err(time, nC) ;\n",
      "\t\tbd_err:valid_min = -1500000 ;\n",
      "\t\tbd_err:valid_max = 1500000 ;\n",
      "\t\tbd_err:units = m ;\n",
      "\t\tbd_err:long_name = Baseline dilation error ;\n",
      "\tfloat64 karin_err(time, nC) ;\n",
      "\t\tkarin_err:valid_min = -1500000 ;\n",
      "\t\tkarin_err:valid_max = 1500000 ;\n",
      "\t\tkarin_err:units = m ;\n",
      "\t\tkarin_err:long_name = Karin instrument random error ;\n",
      "\tfloat64 time(time) ;\n",
      "\t\ttime:units = s ;\n",
      "\t\ttime:valid_min = 0 ;\n",
      "\t\ttime:long_name = Time from beginning of simulation (in s) ;\n",
      "\n",
      "// global attributes:\n",
      "\t:description = SWOT fixed grid ;\n",
      "\t:corresponding_grid = /data/MSA_ETU/mballarotta/ETUDE_BOOST-SWOT/output_SWOTsimulator/swot_HD/BOOST-SWOT_SWOT_grid_p436.nc ;\n",
      "\t:title = SWOT-like data simulated by SWOT simulator ;\n",
      "\t:keywords = SWOT, altimetry, SSH, satellite, remote sensing ;\n",
      "\t:Conventions = CF-1.6 ;\n",
      "\t:summary = SWOT grid data produced ;\n",
      "\t:Metadata_Conventions = Unidata Dataset Discovery v1.0 ;\n",
      "\t:history = Grid File created by swotsimulator version 2.21 ;\n",
      "\t:processing_level = L2 ;\n",
      "\t:standard_name_vocabulary = CF-1.6 ;\n",
      "\t:creator_name = Lucile Gaultier and Clement Ubelmann ;\n",
      "\t:creator_email = lucile.gaultier@gmail.com ;\n",
      "\t:publisher_url = github/SWOTSimulator/ ;\n",
      "\t:time_coverage_start = 36.53481473004376 ;\n",
      "\t:time_coverage_end = 36.56983475084844 ;\n",
      "\t:geospatial_lat_min = -78.07 ;\n",
      "\t:geospatial_lat_max = 78.07 ;\n",
      "\t:geospatial_lat_units = degrees_north ;\n",
      "\t:geospatial_lon_max = 360.00 ;\n",
      "\t:geospatial_lon_min = 0.00 ;\n",
      "\t:geospatial_lon_units = degrees_east ;\n",
      "\t:project = SWOT ;\n",
      "\t:date_created = 2018-11-28T21:15:01Z ;\n",
      "\t:date_modified = 2018-11-28T21:15:01Z ;\n",
      "\t:keywords_vocabulary = NASA ;\n",
      "\t:references = Gaultier, L., C. Ubelmann, and L.-L. Fu, 2016: The Challenge of Using Future SWOT Data for Oceanic Field Reconstruction. J. Atmos. Oceanic Technol., 33, 119-126, doi:10.1175/jtech-d-15-0160.1. http://dx.doi.org/10.1175/JTECH-D-15-0160.1. ;\n",
      "}"
     ]
    }
   ],
   "source": [
    "#### Download a SWOT path\n",
    "\n",
    "roll_error_only = True\n",
    "\n",
    "all_but_karin = False\n",
    "\n",
    "with xr.open_dataset(path_SWOTpass, mask_and_scale=True) as (ds_SWOTpass):\n",
    "    ds_SWOTpass.info() # Dimension of the dataset\n",
    "ntime = ds_SWOTpass.time.size\n",
    "nc = ds_SWOTpass.nC.size\n",
    "lon_swotpass = np.zeros([ntime, nc])\n",
    "lon_swotpass [:,:] = ds_SWOTpass.lon\n",
    "lon_swotpass = np.ma.masked_invalid(lon_swotpass)\n",
    "lat_swotpass = np.zeros([ntime,nc])\n",
    "lat_swotpass [:,:] = ds_SWOTpass.lat\n",
    "lat_swotpass = np.ma.masked_invalid(lat_swotpass)\n",
    "ssh_swotpass = np.zeros([ntime,nc])\n",
    "if roll_error_only:\n",
    "    ssh_swotpass[:, :] = ds_SWOTpass.ssh_model + ds_SWOTpass.roll_err\n",
    "elif all_but_karin:\n",
    "   ssh_swotpass[:, :] = ds_SWOTpass.ssh_model + ds_SWOTpass.roll_err + ds_SWOTpass.phase_err + ds_SWOTpass.timing_err + ds_SWOTpass.bd_err\n",
    "else: \n",
    "    ssh_swotpass[:, :] = ds_SWOTpass.ssh_obs\n",
    "ssh_swotpass = np.ma.masked_invalid(ssh_swotpass)\n",
    "ssh_swotpass_truth = np.zeros([ntime, nc]) \n",
    "ssh_swotpass_truth[:, :] = ds_SWOTpass.ssh_model # ssh model\n",
    "ssh_swotpass_truth = np.ma.masked_invalid(ssh_swotpass_truth)\n",
    "\n"
   ]
  },
  {
   "cell_type": "code",
   "execution_count": null,
   "metadata": {},
   "outputs": [],
   "source": [
    "#### Download NADIR path\n",
    "with xr.open_dataset(path_nadir, mask_and_scale=True) as ds_nadirpass:\n",
    "    ds_nadirpass.info()\n",
    "ndtime = ds_nadirpass.time.size\n",
    "lon_nadirpass = np.zeros([ndtime])\n",
    "lon_nadirpass[:] = ds_nadirpass.lon\n",
    "lat_nadirpass = np.zeros([ndtime])\n",
    "lat_nadirpass[:] = ds_nadirpass.lat\n",
    "x_al = np.zeros([ndtime])\n",
    "x_al[:] = ds_nadirpass.x_al\n",
    "ssh_nadir = np.zeros([ndtime])  \n",
    "            \n",
    "ssh_nadir[:] = ds_nadirpass.ssh_obs\n",
    "ssh_nadir_truth = np.zeros([ndtime])  \n",
    "ssh_nadir_truth[:] = ds_nadirpass.ssh_model\n"
   ]
  },
  {
   "cell_type": "markdown",
   "metadata": {},
   "source": [
    "3. SSH along nadir track (x_al) for Nadir data"
   ]
  },
  {
   "cell_type": "code",
   "execution_count": 11,
   "metadata": {},
   "outputs": [
    {
     "data": {
      "image/png": "[encoded data removed]",
      "text/plain": [
       "<Figure size 432x288 with 1 Axes>"
      ]
     },
     "metadata": {
      "needs_background": "light"
     },
     "output_type": "display_data"
    }
   ],
   "source": [
    "### SSH(m) vs Nadir along track (x_al) for Nadir data\n",
    "plt.figure()\n",
    "plt.plot(x_al,ssh_nadir)\n",
    "plt.ylabel('SSH (m)',fontsize=15)\n",
    "plt.xlabel('x_al (km)',fontsize=15)\n",
    "plt.title('Nadir data along track', fontsize=15)\n",
    "plt.show()"
   ]
  },
  {
   "cell_type": "markdown",
   "metadata": {},
   "source": [
    "# INTERPOLATION"
   ]
  },
  {
   "cell_type": "code",
   "execution_count": 20,
   "metadata": {},
   "outputs": [
    {
     "name": "stderr",
     "output_type": "stream",
     "text": [
      "/home/hafolahbi/anaconda3/lib/python3.7/site-packages/scipy/interpolate/_fitpack_impl.py:976: RuntimeWarning: No more knots can be added because the number of B-spline\n",
      "coefficients already exceeds the number of data points m.\n",
      "Probable causes: either s or m too small. (fp>s)\n",
      "\tkx,ky=1,1 nx,ny=178,179 m=31044 fp=nan s=0.000000\n",
      "  warnings.warn(RuntimeWarning(_iermess2[ierm][0] + _mess))\n"
     ]
    }
   ],
   "source": [
    "#%%\n",
    "## To interpolate SWOT data into the Nadir line\n",
    "#interp = interp1d(ssh_nadir,ssh_nadir_truth, kind='linear', fill_value='extrapolate') # \n",
    "linear_interp = interp2d(lon_swotpass,lat_swotpass,ssh_swotpass, kind='linear', fill_value='extrapolate')\n",
    "\n",
    "# But what is needed a protion of nadir ssh that cut swot ssh \n",
    "####Another way\n",
    "#grid_x, grid_y = np.mgrid[0:100:100j, 0:100:200j]\n",
    "#grid_z0 = griddata(ssh_swotpass, ssh_nadir, (grid_x, grid_y), method='linear')"
   ]
  },
  {
   "cell_type": "code",
   "execution_count": 26,
   "metadata": {},
   "outputs": [],
   "source": [
    "### select SSH data along the track (x_al)\n",
    "\n",
    "def SWOT_along_x_al (lon_nadirpass,lat_nadirpass,lon_swotpass,lat_swotpass,ssh_swotpass,ndtime,ntime,nc):\n",
    "    ssh_swotxal=np.zeros([ndtime])\n",
    "    for i in range (0,ntime+1):\n",
    "        for j in range (0,nc+1):\n",
    "            for k in range (0,ndtime+1):\n",
    "                if lon_nadirpass[k]==lon_swotpass[i,j] and lat_nadirpass[k]==lat_swotpass[i,j]:\n",
    "                    ssh_swotxal[k]=ssh_swotpass[i,j]\n",
    "    return (ssh_swotxal)"
   ]
  },
  {
   "cell_type": "code",
   "execution_count": 17,
   "metadata": {},
   "outputs": [
    {
     "data": {
      "text/plain": [
       "<scipy.interpolate.interpolate.interp1d at 0x7fda5e1c2b90>"
      ]
     },
     "execution_count": 17,
     "metadata": {},
     "output_type": "execute_result"
    }
   ],
   "source": [
    "interp"
   ]
  },
  {
   "cell_type": "code",
   "execution_count": 23,
   "metadata": {},
   "outputs": [
    {
     "data": {
      "text/plain": [
       "<scipy.interpolate.interpolate.interp2d at 0x7fda5e29ccd0>"
      ]
     },
     "execution_count": 23,
     "metadata": {},
     "output_type": "execute_result"
    }
   ],
   "source": [
    "linear_interp"
   ]
  },
  {
   "cell_type": "code",
   "execution_count": 27,
   "metadata": {},
   "outputs": [
    {
     "data": {
      "text/plain": [
       "masked_array(\n",
       "  data=[[342.011232, --, --, ..., --, --, --],\n",
       "        [342.02214399999997, 342.05152, 342.0808, ..., --, --, --],\n",
       "        [342.03308799999996, 342.062368, 342.09168, ..., --, --, --],\n",
       "        ...,\n",
       "        [--, --, --, ..., 348.508064, 348.53270399999997, 348.557376],\n",
       "        [--, --, --, ..., 348.514272, 348.53894399999996, 348.563584],\n",
       "        [--, --, --, ..., --, 348.545216, 348.569888]],\n",
       "  mask=[[False,  True,  True, ...,  True,  True,  True],\n",
       "        [False, False, False, ...,  True,  True,  True],\n",
       "        [False, False, False, ...,  True,  True,  True],\n",
       "        ...,\n",
       "        [ True,  True,  True, ..., False, False, False],\n",
       "        [ True,  True,  True, ..., False, False, False],\n",
       "        [ True,  True,  True, ...,  True, False, False]],\n",
       "  fill_value=1e+20)"
      ]
     },
     "execution_count": 27,
     "metadata": {},
     "output_type": "execute_result"
    }
   ],
   "source": [
    "lon_swotpass"
   ]
  },
  {
   "cell_type": "code",
   "execution_count": 39,
   "metadata": {},
   "outputs": [
    {
     "data": {
      "text/plain": [
       "<scipy.interpolate.interpolate.interp2d at 0x7fda5e29ccd0>"
      ]
     },
     "execution_count": 39,
     "metadata": {},
     "output_type": "execute_result"
    }
   ],
   "source": [
    "linear_interp"
   ]
  },
  {
   "cell_type": "code",
   "execution_count": null,
   "metadata": {},
   "outputs": [],
   "source": []
  }
 ],
 "metadata": {
  "kernelspec": {
   "display_name": "Python 3",
   "language": "python",
   "name": "python3"
  },
  "language_info": {
   "codemirror_mode": {
    "name": "ipython",
    "version": 3
   },
   "file_extension": ".py",
   "mimetype": "text/x-python",
   "name": "python",
   "nbconvert_exporter": "python",
   "pygments_lexer": "ipython3",
   "version": "3.7.6"
  }
 },
 "nbformat": 4,
 "nbformat_minor": 2
}
